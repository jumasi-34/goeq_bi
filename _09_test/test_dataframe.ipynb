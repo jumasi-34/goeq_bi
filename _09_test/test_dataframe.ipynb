{
 "cells": [
  {
   "cell_type": "code",
   "execution_count": 2,
   "id": "651f2a13",
   "metadata": {},
   "outputs": [],
   "source": [
    "# --- 자동 모듈 리로드 설정 ---\n",
    "%load_ext autoreload\n",
    "# %autoreload 2: 모든 모듈을 매번 자동으로 다시 로드\n",
    "%autoreload 2 "
   ]
  },
  {
   "cell_type": "code",
   "execution_count": 3,
   "id": "6f87d03e",
   "metadata": {},
   "outputs": [],
   "source": [
    "# --- 공통 라이브러리 import ---\n",
    "import sys\n",
    "from datetime import datetime, timedelta\n",
    "import pandas as pd\n",
    "import numpy as np\n",
    "import matplotlib.pyplot as plt\n",
    "import seaborn as sns\n",
    "import plotly.graph_objs as go\n",
    "\n",
    "sys.path.append(r\"D:\\OneDrive - HKNC\\@ Project_CQMS\\# Workstation_2\")"
   ]
  },
  {
   "cell_type": "code",
   "execution_count": 4,
   "id": "bffb9aab",
   "metadata": {},
   "outputs": [],
   "source": [
    "from _00_database.db_client import get_client"
   ]
  },
  {
   "cell_type": "code",
   "execution_count": null,
   "id": "d10405a1",
   "metadata": {},
   "outputs": [],
   "source": [
    "query = '''\n",
    "SELECT \n",
    "    'RE/OE',\n",
    "    \"Prod.\",\n",
    "    \"Billing YYYYMM\",\n",
    "    SUM(\"Qty.\") AS TOTAL_QTY\n",
    "FROM VW_SF_HOPE_SELLIN_SUMMARY\n",
    "WHERE \"Billing YYYYMM\" >= 202001\n",
    "GROUP BY \n",
    "    'RE/OE',\n",
    "    \"Prod.\",\n",
    "    \"Billing YYYYMM\"\n",
    "'''\n",
    "\n",
    "df = get_client('oracle_bi').execute(query=query)"
   ]
  },
  {
   "cell_type": "code",
   "execution_count": 7,
   "id": "3cc071b8",
   "metadata": {},
   "outputs": [
    {
     "data": {
      "text/html": [
       "<div>\n",
       "<style scoped>\n",
       "    .dataframe tbody tr th:only-of-type {\n",
       "        vertical-align: middle;\n",
       "    }\n",
       "\n",
       "    .dataframe tbody tr th {\n",
       "        vertical-align: top;\n",
       "    }\n",
       "\n",
       "    .dataframe thead th {\n",
       "        text-align: right;\n",
       "    }\n",
       "</style>\n",
       "<table border=\"1\" class=\"dataframe\">\n",
       "  <thead>\n",
       "    <tr style=\"text-align: right;\">\n",
       "      <th></th>\n",
       "      <th>Prod.</th>\n",
       "      <th>Billing YYYYMM</th>\n",
       "      <th>total_qty</th>\n",
       "    </tr>\n",
       "  </thead>\n",
       "  <tbody>\n",
       "    <tr>\n",
       "      <th>0</th>\n",
       "      <td>3002060</td>\n",
       "      <td>202505</td>\n",
       "      <td>60</td>\n",
       "    </tr>\n",
       "    <tr>\n",
       "      <th>1</th>\n",
       "      <td>1032011</td>\n",
       "      <td>202505</td>\n",
       "      <td>264</td>\n",
       "    </tr>\n",
       "    <tr>\n",
       "      <th>2</th>\n",
       "      <td>3001592</td>\n",
       "      <td>202504</td>\n",
       "      <td>8313</td>\n",
       "    </tr>\n",
       "    <tr>\n",
       "      <th>3</th>\n",
       "      <td>3002783</td>\n",
       "      <td>202501</td>\n",
       "      <td>0</td>\n",
       "    </tr>\n",
       "    <tr>\n",
       "      <th>4</th>\n",
       "      <td>1030192</td>\n",
       "      <td>202502</td>\n",
       "      <td>88</td>\n",
       "    </tr>\n",
       "    <tr>\n",
       "      <th>...</th>\n",
       "      <td>...</td>\n",
       "      <td>...</td>\n",
       "      <td>...</td>\n",
       "    </tr>\n",
       "    <tr>\n",
       "      <th>2556</th>\n",
       "      <td>1026852</td>\n",
       "      <td>202505</td>\n",
       "      <td>104</td>\n",
       "    </tr>\n",
       "    <tr>\n",
       "      <th>2557</th>\n",
       "      <td>3002652</td>\n",
       "      <td>202503</td>\n",
       "      <td>1512</td>\n",
       "    </tr>\n",
       "    <tr>\n",
       "      <th>2558</th>\n",
       "      <td>1017100</td>\n",
       "      <td>202501</td>\n",
       "      <td>212</td>\n",
       "    </tr>\n",
       "    <tr>\n",
       "      <th>2559</th>\n",
       "      <td>1028484</td>\n",
       "      <td>202504</td>\n",
       "      <td>6330</td>\n",
       "    </tr>\n",
       "    <tr>\n",
       "      <th>2560</th>\n",
       "      <td>3001630</td>\n",
       "      <td>202504</td>\n",
       "      <td>66</td>\n",
       "    </tr>\n",
       "  </tbody>\n",
       "</table>\n",
       "<p>2561 rows × 3 columns</p>\n",
       "</div>"
      ],
      "text/plain": [
       "        Prod. Billing YYYYMM  total_qty\n",
       "0     3002060         202505         60\n",
       "1     1032011         202505        264\n",
       "2     3001592         202504       8313\n",
       "3     3002783         202501          0\n",
       "4     1030192         202502         88\n",
       "...       ...            ...        ...\n",
       "2556  1026852         202505        104\n",
       "2557  3002652         202503       1512\n",
       "2558  1017100         202501        212\n",
       "2559  1028484         202504       6330\n",
       "2560  3001630         202504         66\n",
       "\n",
       "[2561 rows x 3 columns]"
      ]
     },
     "execution_count": 7,
     "metadata": {},
     "output_type": "execute_result"
    }
   ],
   "source": [
    "df"
   ]
  },
  {
   "cell_type": "code",
   "execution_count": null,
   "id": "2287302f",
   "metadata": {},
   "outputs": [],
   "source": [
    "['Data Category', 'Billing YYYYMM', 'RE/OE', 'Sold-to', 'Sold-to Name',\n",
    "       'Ship-to', 'Ship-to Name', 'Prod.', 'Prod. Hier. Desc.', 'Gross Wgt.',\n",
    "       'Qty.', 'Amt.', 'Sales Wgt.', 'Amt.(USD)', 'Amt.(EUR)', 'Amt.(KRW)',\n",
    "       'Amt.(LOC)', 'Material', 'Material Desc.', 'Pattern', 'Inch', 'Origin',\n",
    "       'Season', 'Region', 'Prod. Hier.', 'I-Seg.', 'I-Seg. Name',\n",
    "       'Lab/Office', 'Prod. Name', 'Prod. Category Name(L)',\n",
    "       'Prod. Category Name(M)', 'Prod. Category Name(S)', 'KAM Name',\n",
    "       'Vehicle Name', 'Vehicle Grade', 'Pure EV', 'Vehicle Grade EV',\n",
    "       'Update Date']"
   ]
  }
 ],
 "metadata": {
  "kernelspec": {
   "display_name": "goeq",
   "language": "python",
   "name": "python3"
  },
  "language_info": {
   "codemirror_mode": {
    "name": "ipython",
    "version": 3
   },
   "file_extension": ".py",
   "mimetype": "text/x-python",
   "name": "python",
   "nbconvert_exporter": "python",
   "pygments_lexer": "ipython3",
   "version": "3.12.9"
  }
 },
 "nbformat": 4,
 "nbformat_minor": 5
}
